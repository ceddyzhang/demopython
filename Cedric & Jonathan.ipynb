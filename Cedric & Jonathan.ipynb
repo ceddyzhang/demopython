{
 "cells": [
  {
   "cell_type": "code",
   "execution_count": 1,
   "id": "63dc64eb-cbbb-43da-868d-6bc5b9fbc3d9",
   "metadata": {},
   "outputs": [
    {
     "name": "stdout",
     "output_type": "stream",
     "text": [
      "Defaulting to user installation because normal site-packages is not writeable\n",
      "Looking in links: /usr/share/pip-wheels\n",
      "Requirement already satisfied: gspread in /home/ea6c4fc6-86ff-4886-b901-77f42b05517f/.local/lib/python3.11/site-packages (6.1.2)\n",
      "Requirement already satisfied: google-auth>=1.12.0 in /home/ea6c4fc6-86ff-4886-b901-77f42b05517f/.local/lib/python3.11/site-packages (from gspread) (2.30.0)\n",
      "Requirement already satisfied: google-auth-oauthlib>=0.4.1 in /home/ea6c4fc6-86ff-4886-b901-77f42b05517f/.local/lib/python3.11/site-packages (from gspread) (1.2.0)\n",
      "Requirement already satisfied: cachetools<6.0,>=2.0.0 in /home/ea6c4fc6-86ff-4886-b901-77f42b05517f/.local/lib/python3.11/site-packages (from google-auth>=1.12.0->gspread) (5.3.3)\n",
      "Requirement already satisfied: pyasn1-modules>=0.2.1 in /opt/conda/envs/anaconda-panel-2023.05-py310/lib/python3.11/site-packages (from google-auth>=1.12.0->gspread) (0.2.8)\n",
      "Requirement already satisfied: rsa<5,>=3.1.4 in /home/ea6c4fc6-86ff-4886-b901-77f42b05517f/.local/lib/python3.11/site-packages (from google-auth>=1.12.0->gspread) (4.9)\n",
      "Requirement already satisfied: requests-oauthlib>=0.7.0 in /home/ea6c4fc6-86ff-4886-b901-77f42b05517f/.local/lib/python3.11/site-packages (from google-auth-oauthlib>=0.4.1->gspread) (2.0.0)\n",
      "Requirement already satisfied: pyasn1<0.5.0,>=0.4.6 in /opt/conda/envs/anaconda-panel-2023.05-py310/lib/python3.11/site-packages (from pyasn1-modules>=0.2.1->google-auth>=1.12.0->gspread) (0.4.8)\n",
      "Requirement already satisfied: oauthlib>=3.0.0 in /home/ea6c4fc6-86ff-4886-b901-77f42b05517f/.local/lib/python3.11/site-packages (from requests-oauthlib>=0.7.0->google-auth-oauthlib>=0.4.1->gspread) (3.2.2)\n",
      "Requirement already satisfied: requests>=2.0.0 in /opt/conda/envs/anaconda-panel-2023.05-py310/lib/python3.11/site-packages (from requests-oauthlib>=0.7.0->google-auth-oauthlib>=0.4.1->gspread) (2.31.0)\n",
      "Requirement already satisfied: charset-normalizer<4,>=2 in /opt/conda/envs/anaconda-panel-2023.05-py310/lib/python3.11/site-packages (from requests>=2.0.0->requests-oauthlib>=0.7.0->google-auth-oauthlib>=0.4.1->gspread) (2.0.4)\n",
      "Requirement already satisfied: idna<4,>=2.5 in /opt/conda/envs/anaconda-panel-2023.05-py310/lib/python3.11/site-packages (from requests>=2.0.0->requests-oauthlib>=0.7.0->google-auth-oauthlib>=0.4.1->gspread) (3.4)\n",
      "Requirement already satisfied: urllib3<3,>=1.21.1 in /opt/conda/envs/anaconda-panel-2023.05-py310/lib/python3.11/site-packages (from requests>=2.0.0->requests-oauthlib>=0.7.0->google-auth-oauthlib>=0.4.1->gspread) (1.26.16)\n",
      "Requirement already satisfied: certifi>=2017.4.17 in /opt/conda/envs/anaconda-panel-2023.05-py310/lib/python3.11/site-packages (from requests>=2.0.0->requests-oauthlib>=0.7.0->google-auth-oauthlib>=0.4.1->gspread) (2023.7.22)\n",
      "Defaulting to user installation because normal site-packages is not writeable\n",
      "Looking in links: /usr/share/pip-wheels\n",
      "Requirement already satisfied: oauth2client in /home/ea6c4fc6-86ff-4886-b901-77f42b05517f/.local/lib/python3.11/site-packages (4.1.3)\n",
      "Requirement already satisfied: httplib2>=0.9.1 in /home/ea6c4fc6-86ff-4886-b901-77f42b05517f/.local/lib/python3.11/site-packages (from oauth2client) (0.22.0)\n",
      "Requirement already satisfied: pyasn1>=0.1.7 in /opt/conda/envs/anaconda-panel-2023.05-py310/lib/python3.11/site-packages (from oauth2client) (0.4.8)\n",
      "Requirement already satisfied: pyasn1-modules>=0.0.5 in /opt/conda/envs/anaconda-panel-2023.05-py310/lib/python3.11/site-packages (from oauth2client) (0.2.8)\n",
      "Requirement already satisfied: rsa>=3.1.4 in /home/ea6c4fc6-86ff-4886-b901-77f42b05517f/.local/lib/python3.11/site-packages (from oauth2client) (4.9)\n",
      "Requirement already satisfied: six>=1.6.1 in /opt/conda/envs/anaconda-panel-2023.05-py310/lib/python3.11/site-packages (from oauth2client) (1.16.0)\n",
      "Requirement already satisfied: pyparsing!=3.0.0,!=3.0.1,!=3.0.2,!=3.0.3,<4,>=2.4.2 in /opt/conda/envs/anaconda-panel-2023.05-py310/lib/python3.11/site-packages (from httplib2>=0.9.1->oauth2client) (3.0.9)\n"
     ]
    }
   ],
   "source": [
    "!pip install gspread\n",
    "!pip install oauth2client"
   ]
  },
  {
   "cell_type": "code",
   "execution_count": 24,
   "id": "6e7d9867-e011-4ad7-bc5d-d7cd4368d1f4",
   "metadata": {},
   "outputs": [],
   "source": [
    "import pandas, gspread, random, numpy"
   ]
  },
  {
   "cell_type": "code",
   "execution_count": 2,
   "id": "52ee81ed-ff93-42e3-8c5a-3ae0afd60f93",
   "metadata": {},
   "outputs": [],
   "source": [
    "#https://medium.com/analytics-vidhya/how-to-read-and-write-data-to-google-spreadsheet-using-python-ebf54d51a72c\n",
    "from oauth2client.service_account import ServiceAccountCredentials\n",
    "\n",
    "scope = ['https://spreadsheets.google.com/feeds',\n",
    "        'https://www.googleapis.com/auth/drive']\n",
    "\n",
    "credentials = ServiceAccountCredentials.from_json_keyfile_name('ai-pm-project-46ef9dbd112c.json', scope)\n",
    "client = gspread.authorize(credentials)"
   ]
  },
  {
   "cell_type": "markdown",
   "id": "b6bfb62c-7e96-4e5e-b188-63f7c7b07af6",
   "metadata": {},
   "source": [
    "# Import Google Sheet"
   ]
  },
  {
   "cell_type": "code",
   "execution_count": 43,
   "id": "97506c25-3d85-4548-bcba-3cbfbbfe1495",
   "metadata": {},
   "outputs": [
    {
     "name": "stdout",
     "output_type": "stream",
     "text": [
      "[{'simulation_start_time': '', 'success_or_failure': '', 'week': 0, 'scope_remaining_at_week_start_index': '', 'scope_remaining_at_week_end_index': 42, 'schedule_remaining_at_week_start_week': '', 'schedule_remaining_at_week_end_week': 21, 'budget_remaining_at_week_start_dollar': '', 'budget_remaining_at_week_end_dollar': '$81,900', 'scope_shock_during_the_week_index': '', 'standard_weekly_labour_rate_dollar': 1500, 'resource_lv1_productivity_during_the_week_index': 0.5, 'resource_lv2_productivity_during_the_week_index': 0.9, 'resource_lv3_productivity_during_the_week_index': 1.15, 'resource_lv1_available_during_the_week_count': 2, 'resource_lv2_available_during_the_week_count': 2, 'resource_lv3_available_during_the_week_count': 2, 'resource_lv1_weekly_rate_dollar': 900, 'resource_lv2_weekly_rate_dollar': 1500, 'resource_lv3_weekly_rate_dollar': 1875, 'resource_lv1_used_during_the_week_count': '', 'resource_lv2_used_during_the_week_count': '', 'resource_lv3_used_during_the_week_count': '', 'resource_lv1_actual_accomplishment_during_the_week_index': 0, 'resource_lv2_actual_accomplishment_during_the_week_index': 0, 'resource_lv3_actual_accomplishment_during_the_week_index': 0, 'resouce_lv1_actual_cost_during_the_week_dollar': '$0', 'resouce_lv2_actual_cost_during_the_week_dollar': '$0', 'resouce_lv3_actual_cost_during_the_week_dollar': '$0'}, {'simulation_start_time': '', 'success_or_failure': '', 'week': 1, 'scope_remaining_at_week_start_index': 42, 'scope_remaining_at_week_end_index': 41.2, 'schedule_remaining_at_week_start_week': 21, 'schedule_remaining_at_week_end_week': 20, 'budget_remaining_at_week_start_dollar': '$81,900', 'budget_remaining_at_week_end_dollar': '$78,900', 'scope_shock_during_the_week_index': 1, 'standard_weekly_labour_rate_dollar': 1500, 'resource_lv1_productivity_during_the_week_index': 0.5, 'resource_lv2_productivity_during_the_week_index': 0.9, 'resource_lv3_productivity_during_the_week_index': 1.15, 'resource_lv1_available_during_the_week_count': 3, 'resource_lv2_available_during_the_week_count': 5, 'resource_lv3_available_during_the_week_count': 2, 'resource_lv1_weekly_rate_dollar': 900, 'resource_lv2_weekly_rate_dollar': 1500, 'resource_lv3_weekly_rate_dollar': 1875, 'resource_lv1_used_during_the_week_count': '', 'resource_lv2_used_during_the_week_count': 2, 'resource_lv3_used_during_the_week_count': '', 'resource_lv1_actual_accomplishment_during_the_week_index': 0, 'resource_lv2_actual_accomplishment_during_the_week_index': 1.8, 'resource_lv3_actual_accomplishment_during_the_week_index': 0, 'resouce_lv1_actual_cost_during_the_week_dollar': '$0', 'resouce_lv2_actual_cost_during_the_week_dollar': '$3,000', 'resouce_lv3_actual_cost_during_the_week_dollar': '$0'}, {'simulation_start_time': '', 'success_or_failure': '', 'week': 1, 'scope_remaining_at_week_start_index': 41.2, 'scope_remaining_at_week_end_index': 40.4, 'schedule_remaining_at_week_start_week': 20, 'schedule_remaining_at_week_end_week': 19, 'budget_remaining_at_week_start_dollar': '$78,900', 'budget_remaining_at_week_end_dollar': '$75,900', 'scope_shock_during_the_week_index': 1, 'standard_weekly_labour_rate_dollar': 1500, 'resource_lv1_productivity_during_the_week_index': 0.5, 'resource_lv2_productivity_during_the_week_index': 0.9, 'resource_lv3_productivity_during_the_week_index': 1.15, 'resource_lv1_available_during_the_week_count': 3, 'resource_lv2_available_during_the_week_count': 5, 'resource_lv3_available_during_the_week_count': 2, 'resource_lv1_weekly_rate_dollar': 900, 'resource_lv2_weekly_rate_dollar': 1500, 'resource_lv3_weekly_rate_dollar': 1875, 'resource_lv1_used_during_the_week_count': '', 'resource_lv2_used_during_the_week_count': 2, 'resource_lv3_used_during_the_week_count': '', 'resource_lv1_actual_accomplishment_during_the_week_index': 0, 'resource_lv2_actual_accomplishment_during_the_week_index': 1.8, 'resource_lv3_actual_accomplishment_during_the_week_index': 0, 'resouce_lv1_actual_cost_during_the_week_dollar': '$0', 'resouce_lv2_actual_cost_during_the_week_dollar': '$3,000', 'resouce_lv3_actual_cost_during_the_week_dollar': '$0'}]\n"
     ]
    }
   ],
   "source": [
    "# Open a worksheet\n",
    "sheet = client.open(\"AI PM Data Structure\").sheet1\n",
    "\n",
    "# Get all records\n",
    "records = sheet.get_all_records()\n",
    "# Print the records\n",
    "print(records)"
   ]
  },
  {
   "cell_type": "code",
   "execution_count": 44,
   "id": "0941ff64-46b1-4bb1-9b95-6101beb5ff2d",
   "metadata": {},
   "outputs": [
    {
     "data": {
      "text/plain": [
       "simulation_start_time                                        object\n",
       "success_or_failure                                           object\n",
       "week                                                          int64\n",
       "scope_remaining_at_week_start_index                          object\n",
       "scope_remaining_at_week_end_index                           float64\n",
       "schedule_remaining_at_week_start_week                        object\n",
       "schedule_remaining_at_week_end_week                           int64\n",
       "budget_remaining_at_week_start_dollar                        object\n",
       "budget_remaining_at_week_end_dollar                          object\n",
       "scope_shock_during_the_week_index                            object\n",
       "standard_weekly_labour_rate_dollar                            int64\n",
       "resource_lv1_productivity_during_the_week_index             float64\n",
       "resource_lv2_productivity_during_the_week_index             float64\n",
       "resource_lv3_productivity_during_the_week_index             float64\n",
       "resource_lv1_available_during_the_week_count                  int64\n",
       "resource_lv2_available_during_the_week_count                  int64\n",
       "resource_lv3_available_during_the_week_count                  int64\n",
       "resource_lv1_weekly_rate_dollar                               int64\n",
       "resource_lv2_weekly_rate_dollar                               int64\n",
       "resource_lv3_weekly_rate_dollar                               int64\n",
       "resource_lv1_used_during_the_week_count                      object\n",
       "resource_lv2_used_during_the_week_count                      object\n",
       "resource_lv3_used_during_the_week_count                      object\n",
       "resource_lv1_actual_accomplishment_during_the_week_index      int64\n",
       "resource_lv2_actual_accomplishment_during_the_week_index    float64\n",
       "resource_lv3_actual_accomplishment_during_the_week_index      int64\n",
       "resouce_lv1_actual_cost_during_the_week_dollar               object\n",
       "resouce_lv2_actual_cost_during_the_week_dollar               object\n",
       "resouce_lv3_actual_cost_during_the_week_dollar               object\n",
       "dtype: object"
      ]
     },
     "execution_count": 44,
     "metadata": {},
     "output_type": "execute_result"
    }
   ],
   "source": [
    "simulation_df = pandas.DataFrame(records)\n",
    "simulation_df.loc[:,:].dtypes"
   ]
  },
  {
   "cell_type": "markdown",
   "id": "af2e6ef5-f8fa-442e-a339-2c527f71713d",
   "metadata": {},
   "source": [
    "# Cleanse dollar columns as they are originally stored as object/str when transferring from Google Sheet"
   ]
  },
  {
   "cell_type": "code",
   "execution_count": 45,
   "id": "6af660a6-443d-4387-a966-4b37201f4022",
   "metadata": {},
   "outputs": [
    {
     "data": {
      "text/html": [
       "<div>\n",
       "<style scoped>\n",
       "    .dataframe tbody tr th:only-of-type {\n",
       "        vertical-align: middle;\n",
       "    }\n",
       "\n",
       "    .dataframe tbody tr th {\n",
       "        vertical-align: top;\n",
       "    }\n",
       "\n",
       "    .dataframe thead th {\n",
       "        text-align: right;\n",
       "    }\n",
       "</style>\n",
       "<table border=\"1\" class=\"dataframe\">\n",
       "  <thead>\n",
       "    <tr style=\"text-align: right;\">\n",
       "      <th></th>\n",
       "      <th>budget_remaining_at_week_start_dollar</th>\n",
       "      <th>budget_remaining_at_week_end_dollar</th>\n",
       "      <th>standard_weekly_labour_rate_dollar</th>\n",
       "      <th>resource_lv1_weekly_rate_dollar</th>\n",
       "      <th>resource_lv2_weekly_rate_dollar</th>\n",
       "      <th>resource_lv3_weekly_rate_dollar</th>\n",
       "      <th>resouce_lv1_actual_cost_during_the_week_dollar</th>\n",
       "      <th>resouce_lv2_actual_cost_during_the_week_dollar</th>\n",
       "      <th>resouce_lv3_actual_cost_during_the_week_dollar</th>\n",
       "    </tr>\n",
       "  </thead>\n",
       "  <tbody>\n",
       "    <tr>\n",
       "      <th>0</th>\n",
       "      <td>NaN</td>\n",
       "      <td>81900.0</td>\n",
       "      <td>1500.0</td>\n",
       "      <td>900.0</td>\n",
       "      <td>1500.0</td>\n",
       "      <td>1875.0</td>\n",
       "      <td>0.0</td>\n",
       "      <td>0.0</td>\n",
       "      <td>0.0</td>\n",
       "    </tr>\n",
       "    <tr>\n",
       "      <th>1</th>\n",
       "      <td>81900.0</td>\n",
       "      <td>78900.0</td>\n",
       "      <td>1500.0</td>\n",
       "      <td>900.0</td>\n",
       "      <td>1500.0</td>\n",
       "      <td>1875.0</td>\n",
       "      <td>0.0</td>\n",
       "      <td>3000.0</td>\n",
       "      <td>0.0</td>\n",
       "    </tr>\n",
       "    <tr>\n",
       "      <th>2</th>\n",
       "      <td>78900.0</td>\n",
       "      <td>75900.0</td>\n",
       "      <td>1500.0</td>\n",
       "      <td>900.0</td>\n",
       "      <td>1500.0</td>\n",
       "      <td>1875.0</td>\n",
       "      <td>0.0</td>\n",
       "      <td>3000.0</td>\n",
       "      <td>0.0</td>\n",
       "    </tr>\n",
       "  </tbody>\n",
       "</table>\n",
       "</div>"
      ],
      "text/plain": [
       "   budget_remaining_at_week_start_dollar  budget_remaining_at_week_end_dollar  \\\n",
       "0                                    NaN                              81900.0   \n",
       "1                                81900.0                              78900.0   \n",
       "2                                78900.0                              75900.0   \n",
       "\n",
       "   standard_weekly_labour_rate_dollar  resource_lv1_weekly_rate_dollar  \\\n",
       "0                              1500.0                            900.0   \n",
       "1                              1500.0                            900.0   \n",
       "2                              1500.0                            900.0   \n",
       "\n",
       "   resource_lv2_weekly_rate_dollar  resource_lv3_weekly_rate_dollar  \\\n",
       "0                           1500.0                           1875.0   \n",
       "1                           1500.0                           1875.0   \n",
       "2                           1500.0                           1875.0   \n",
       "\n",
       "   resouce_lv1_actual_cost_during_the_week_dollar  \\\n",
       "0                                             0.0   \n",
       "1                                             0.0   \n",
       "2                                             0.0   \n",
       "\n",
       "   resouce_lv2_actual_cost_during_the_week_dollar  \\\n",
       "0                                             0.0   \n",
       "1                                          3000.0   \n",
       "2                                          3000.0   \n",
       "\n",
       "   resouce_lv3_actual_cost_during_the_week_dollar  \n",
       "0                                             0.0  \n",
       "1                                             0.0  \n",
       "2                                             0.0  "
      ]
     },
     "execution_count": 45,
     "metadata": {},
     "output_type": "execute_result"
    }
   ],
   "source": [
    "column_with_dollar_list = []\n",
    "#identify column names with $\n",
    "for column in simulation_df.columns:\n",
    "    if 'dollar' in column:\n",
    "        column_with_dollar_list.append(column)\n",
    "#replace column values in dataframe\n",
    "for column in column_with_dollar_list:\n",
    "    simulation_df[column] = simulation_df[column].astype('str').str.replace('$','').str.replace(',','')\n",
    "    #empty str '' cannot directly apply astype float. need code below\n",
    "    simulation_df[column] = pandas.to_numeric(simulation_df[column],errors='coerce').astype('float')\n",
    "simulation_df[column_with_dollar_list]"
   ]
  },
  {
   "cell_type": "markdown",
   "id": "05a116da-cf32-4a11-ae65-82bb9727c02c",
   "metadata": {},
   "source": [
    "# Simulation set up"
   ]
  },
  {
   "cell_type": "code",
   "execution_count": null,
   "id": "5b8932ae-3ec2-4f1d-8ac1-13127a87f809",
   "metadata": {},
   "outputs": [
    {
     "name": "stderr",
     "output_type": "stream",
     "text": [
      "/tmp/ipykernel_118/2895596265.py:127: SettingWithCopyWarning: \n",
      "A value is trying to be set on a copy of a slice from a DataFrame\n",
      "\n",
      "See the caveats in the documentation: https://pandas.pydata.org/pandas-docs/stable/user_guide/indexing.html#returning-a-view-versus-a-copy\n",
      "  result_df.loc[result_df_last_row_number+week_num] = new_row\n"
     ]
    }
   ],
   "source": [
    "import random\n",
    "from datetime import datetime\n",
    "\n",
    "\n",
    "\n",
    "#variable for storing simulation result\n",
    "result_df = simulation_df.loc[0:0,:]\n",
    "\n",
    "number_of_simulations = 500\n",
    "\n",
    "#loop multiple simulations\n",
    "for simulation in range(0,number_of_simulations,1):\n",
    "    #initialization based on row 0 or week 0\n",
    "    scope_remaining = int(simulation_df.loc[0,'scope_remaining_at_week_end_index'])\n",
    "    schedule_initial = int(simulation_df.loc[0,'schedule_remaining_at_week_end_week'])\n",
    "    schedule_remaining = schedule_initial\n",
    "    budget_remaining = int(simulation_df.loc[0,'budget_remaining_at_week_end_dollar'])\n",
    "    scope_shock_during_the_week_index = 0\n",
    "    standard_weekly_labour_rate_dollar = float(simulation_df.loc[0,'standard_weekly_labour_rate_dollar'])\n",
    "    resource_lv1_productivity_during_the_week_index = float(simulation_df.loc[0,'resource_lv1_productivity_during_the_week_index'])\n",
    "    resource_lv2_productivity_during_the_week_index = float(simulation_df.loc[0,'resource_lv2_productivity_during_the_week_index'])\n",
    "    resource_lv3_productivity_during_the_week_index = float(simulation_df.loc[0,'resource_lv3_productivity_during_the_week_index'])\n",
    "    resource_lv1_available_during_the_week_count = float(simulation_df.loc[0,'resource_lv1_available_during_the_week_count'])\n",
    "    resource_lv2_available_during_the_week_count = float(simulation_df.loc[0,'resource_lv2_available_during_the_week_count'])\n",
    "    resource_lv3_available_during_the_week_count = float(simulation_df.loc[0,'resource_lv3_available_during_the_week_count'])\n",
    "    resource_lv1_weekly_rate_dollar = float(simulation_df.loc[0,'resource_lv1_weekly_rate_dollar'])\n",
    "    resource_lv2_weekly_rate_dollar = float(simulation_df.loc[0,'resource_lv2_weekly_rate_dollar'])\n",
    "    resource_lv3_weekly_rate_dollar = float(simulation_df.loc[0,'resource_lv3_weekly_rate_dollar'])\n",
    "\n",
    "    result_df_last_row_number = result_df.shape[0]\n",
    "    simulation_start_time = datetime.now()\n",
    "    success_or_failure = '' \n",
    "    \n",
    "    #each simulation starts from week 1\n",
    "    for week_num in range(1,schedule_initial+1,1):\n",
    "        #week starting condition based on previous week ending condition\n",
    "        schedule_remaining_at_week_start_week = schedule_remaining\n",
    "        scope_remaining_at_week_start_index = scope_remaining\n",
    "        budget_remaining_at_week_start_dollar = budget_remaining\n",
    "        \n",
    "        #parameters for this week. keep constant for now\n",
    "        scope_shock_during_the_week_index\n",
    "        standard_weekly_labour_rate_dollar\n",
    "        resource_lv1_productivity_during_the_week_index\n",
    "        resource_lv2_productivity_during_the_week_index\n",
    "        resource_lv3_productivity_during_the_week_index\n",
    "        resource_lv1_available_during_the_week_count\n",
    "        resource_lv2_available_during_the_week_count\n",
    "        resource_lv3_available_during_the_week_count\n",
    "        resource_lv1_weekly_rate_dollar\n",
    "        resource_lv2_weekly_rate_dollar\n",
    "        resource_lv3_weekly_rate_dollar\n",
    "        #update schedule    \n",
    "        schedule_remaining_at_week_end_week = schedule_remaining - 1\n",
    "        schedule_remaining = schedule_remaining_at_week_end_week\n",
    "        \n",
    "        #make decisions\n",
    "        resource_lv1_used_during_the_week_count = random.randint(0,resource_lv1_available_during_the_week_count)\n",
    "        resource_lv2_used_during_the_week_count = random.randint(0,resource_lv2_available_during_the_week_count)\n",
    "        resource_lv3_used_during_the_week_count = random.randint(0,resource_lv3_available_during_the_week_count)  \n",
    "        \n",
    "       \n",
    "        \n",
    "        #update scope remaining\n",
    "        resource_lv1_actual_accomplishment_during_the_week_index = resource_lv1_productivity_during_the_week_index * resource_lv1_used_during_the_week_count\n",
    "        resource_lv2_actual_accomplishment_during_the_week_index = resource_lv2_productivity_during_the_week_index * resource_lv2_used_during_the_week_count\n",
    "        resource_lv3_actual_accomplishment_during_the_week_index = resource_lv3_productivity_during_the_week_index * resource_lv3_used_during_the_week_count\n",
    "        scope_remaining_at_week_end_index = (\n",
    "            scope_remaining_at_week_start_index + scope_shock_during_the_week_index \n",
    "            - resource_lv1_actual_accomplishment_during_the_week_index \n",
    "            - resource_lv2_actual_accomplishment_during_the_week_index \n",
    "            - resource_lv3_actual_accomplishment_during_the_week_index)\n",
    "        scope_remaining = scope_remaining_at_week_end_index\n",
    "        #update budget remaining\n",
    "        resouce_lv1_actual_cost_during_the_week_dollar = resource_lv1_weekly_rate_dollar * resource_lv1_used_during_the_week_count\n",
    "        resouce_lv2_actual_cost_during_the_week_dollar = resource_lv2_weekly_rate_dollar * resource_lv2_used_during_the_week_count\n",
    "        resouce_lv3_actual_cost_during_the_week_dollar = resource_lv3_weekly_rate_dollar * resource_lv3_used_during_the_week_count\n",
    "        budget_remaining_at_week_end_dollar = (\n",
    "            budget_remaining_at_week_start_dollar\n",
    "            - resouce_lv1_actual_cost_during_the_week_dollar\n",
    "            - resouce_lv2_actual_cost_during_the_week_dollar\n",
    "            - resouce_lv3_actual_cost_during_the_week_dollar)\n",
    "        budget_remaining = budget_remaining_at_week_end_dollar\n",
    "    \n",
    "        #determine success or failure by looking at week end status\n",
    "        if (scope_remaining_at_week_end_index<=0\n",
    "            and schedule_remaining_at_week_end_week >=0\n",
    "            and budget_remaining_at_week_end_dollar >=0):\n",
    "                success_or_failure = 'success'\n",
    "        elif (schedule_remaining_at_week_end_week < 0\n",
    "              or (schedule_remaining_at_week_end_week == 0 and scope_remaining_at_week_end_index>0)\n",
    "              or budget_remaining_at_week_end_dollar < 0):\n",
    "                success_or_failure = 'failure'\n",
    "        #else: keep going\n",
    "        \n",
    "        #write to the file\n",
    "        new_row = {'simulation_start_time':simulation_start_time\n",
    "                   ,'success_or_failure':success_or_failure\n",
    "                   ,'week':week_num\n",
    "                   ,'scope_remaining_at_week_start_index':scope_remaining_at_week_start_index\n",
    "                   ,'scope_remaining_at_week_end_index':scope_remaining_at_week_end_index\n",
    "                   ,'schedule_remaining_at_week_start_week':schedule_remaining_at_week_start_week\n",
    "                   ,'schedule_remaining_at_week_end_week':schedule_remaining_at_week_end_week\n",
    "                   ,'budget_remaining_at_week_start_dollar':budget_remaining_at_week_start_dollar\n",
    "                   ,'budget_remaining_at_week_end_dollar':budget_remaining_at_week_end_dollar\n",
    "                   ,'scope_shock_during_the_week_index':scope_shock_during_the_week_index\n",
    "                   ,'standard_weekly_labour_rate_dollar':standard_weekly_labour_rate_dollar\n",
    "                   ,'resource_lv1_productivity_during_the_week_index':resource_lv1_productivity_during_the_week_index\n",
    "                   ,'resource_lv2_productivity_during_the_week_index':resource_lv2_productivity_during_the_week_index\n",
    "                   ,'resource_lv3_productivity_during_the_week_index':resource_lv3_productivity_during_the_week_index\n",
    "                   ,'resource_lv1_available_during_the_week_count':resource_lv1_available_during_the_week_count\n",
    "                   ,'resource_lv2_available_during_the_week_count':resource_lv2_available_during_the_week_count\n",
    "                   ,'resource_lv3_available_during_the_week_count':resource_lv3_available_during_the_week_count\n",
    "                   ,'resource_lv1_weekly_rate_dollar':resource_lv1_weekly_rate_dollar\n",
    "                   ,'resource_lv2_weekly_rate_dollar':resource_lv2_weekly_rate_dollar\n",
    "                   ,'resource_lv3_weekly_rate_dollar':resource_lv3_weekly_rate_dollar\n",
    "                   ,'resource_lv1_used_during_the_week_count':resource_lv1_used_during_the_week_count\n",
    "                   ,'resource_lv2_used_during_the_week_count':resource_lv2_used_during_the_week_count\n",
    "                   ,'resource_lv3_used_during_the_week_count':resource_lv3_used_during_the_week_count\n",
    "                   ,'resource_lv1_actual_accomplishment_during_the_week_index':resource_lv1_actual_accomplishment_during_the_week_index\n",
    "                   ,'resource_lv2_actual_accomplishment_during_the_week_index':resource_lv2_actual_accomplishment_during_the_week_index\n",
    "                   ,'resource_lv3_actual_accomplishment_during_the_week_index':resource_lv3_actual_accomplishment_during_the_week_index\n",
    "                   ,'resouce_lv1_actual_cost_during_the_week_dollar':resouce_lv1_actual_cost_during_the_week_dollar\n",
    "                   ,'resouce_lv2_actual_cost_during_the_week_dollar':resouce_lv2_actual_cost_during_the_week_dollar\n",
    "                   ,'resouce_lv3_actual_cost_during_the_week_dollar':resouce_lv3_actual_cost_during_the_week_dollar\n",
    "                  }\n",
    "        result_df.loc[result_df_last_row_number+week_num] = new_row\n",
    "    \n",
    "        #if either success or failure occurs, stop the simulation\n",
    "        if success_or_failure == 'success' or success_or_failure == 'failure':\n",
    "            break\n",
    "        #simulation ends\n",
    "\n",
    "\n",
    "#print((pandas.DataFrame(result_df)))\n",
    "#print(success_or_failure)\n",
    "\n",
    "\n",
    "result_df.to_csv('simulation:'+str(datetime.now())+'.csv', index=False)"
   ]
  },
  {
   "cell_type": "code",
   "execution_count": 47,
   "id": "83012c98-e082-45c3-ab09-a5963b2f0930",
   "metadata": {},
   "outputs": [
    {
     "data": {
      "text/html": [
       "<div>\n",
       "<style scoped>\n",
       "    .dataframe tbody tr th:only-of-type {\n",
       "        vertical-align: middle;\n",
       "    }\n",
       "\n",
       "    .dataframe tbody tr th {\n",
       "        vertical-align: top;\n",
       "    }\n",
       "\n",
       "    .dataframe thead th {\n",
       "        text-align: right;\n",
       "    }\n",
       "</style>\n",
       "<table border=\"1\" class=\"dataframe\">\n",
       "  <thead>\n",
       "    <tr style=\"text-align: right;\">\n",
       "      <th></th>\n",
       "      <th>simulation_start_time</th>\n",
       "    </tr>\n",
       "  </thead>\n",
       "  <tbody>\n",
       "    <tr>\n",
       "      <th>0</th>\n",
       "      <td>None</td>\n",
       "    </tr>\n",
       "  </tbody>\n",
       "</table>\n",
       "</div>"
      ],
      "text/plain": [
       "  simulation_start_time\n",
       "0                  None"
      ]
     },
     "execution_count": 47,
     "metadata": {},
     "output_type": "execute_result"
    }
   ],
   "source": [
    "pandas.DataFrame({'simulation_start_time':[None]})"
   ]
  },
  {
   "cell_type": "code",
   "execution_count": 84,
   "id": "c7cd401c-ef20-4877-8c9f-791f44e1ca47",
   "metadata": {},
   "outputs": [
    {
     "data": {
      "text/plain": [
       "range(1, 1)"
      ]
     },
     "execution_count": 84,
     "metadata": {},
     "output_type": "execute_result"
    }
   ],
   "source": [
    "range(1,number_of_simulations,1)"
   ]
  },
  {
   "cell_type": "code",
   "execution_count": null,
   "id": "14205962-05cf-455f-902c-7dbf2152de79",
   "metadata": {},
   "outputs": [],
   "source": []
  }
 ],
 "metadata": {
  "kernelspec": {
   "display_name": "anaconda-panel-2023.05-py310",
   "language": "python",
   "name": "conda-env-anaconda-panel-2023.05-py310-py"
  },
  "language_info": {
   "codemirror_mode": {
    "name": "ipython",
    "version": 3
   },
   "file_extension": ".py",
   "mimetype": "text/x-python",
   "name": "python",
   "nbconvert_exporter": "python",
   "pygments_lexer": "ipython3",
   "version": "3.11.5"
  }
 },
 "nbformat": 4,
 "nbformat_minor": 5
}
